{
  "nbformat": 4,
  "nbformat_minor": 0,
  "metadata": {
    "colab": {
      "provenance": [],
      "include_colab_link": true
    },
    "kernelspec": {
      "name": "python3",
      "display_name": "Python 3"
    },
    "language_info": {
      "name": "python"
    }
  },
  "cells": [
    {
      "cell_type": "markdown",
      "metadata": {
        "id": "view-in-github",
        "colab_type": "text"
      },
      "source": [
        "<a href=\"https://colab.research.google.com/github/adiegn/Soft-Computing/blob/main/nndl_m08_5200411486.ipynb\" target=\"_parent\"><img src=\"https://colab.research.google.com/assets/colab-badge.svg\" alt=\"Open In Colab\"/></a>"
      ]
    },
    {
      "cell_type": "markdown",
      "source": [
        "NPM : 5200411486\n",
        "\n",
        "\n",
        "---\n",
        "\n",
        "\n",
        "Nama : Adie Gunawan Alwani"
      ],
      "metadata": {
        "id": "gYblfbqHuz-a"
      }
    },
    {
      "cell_type": "code",
      "source": [
        "import pandas as pd\n",
        "import numpy as np\n",
        "import random \n",
        "import math\n",
        "import matplotlib.pyplot as plt"
      ],
      "metadata": {
        "id": "94bbPuzquhBC"
      },
      "execution_count": 8,
      "outputs": []
    },
    {
      "cell_type": "code",
      "source": [
        "import io \n",
        "\n",
        "from google.colab import files\n",
        "filenya = files.upload()\n",
        "\n",
        "df = pd.read_csv(io.StringIO(filenya['emailspam.csv'].decode('utf-8')))\n",
        "print(df)"
      ],
      "metadata": {
        "colab": {
          "base_uri": "https://localhost:8080/",
          "height": 1000
        },
        "id": "f9c6PgzduhI5",
        "outputId": "74064bc2-2294-45a9-ee6b-6fb4c89fc136"
      },
      "execution_count": 9,
      "outputs": [
        {
          "output_type": "display_data",
          "data": {
            "text/plain": [
              "<IPython.core.display.HTML object>"
            ],
            "text/html": [
              "\n",
              "     <input type=\"file\" id=\"files-a8fb0053-2743-4170-a19a-1934d09656e8\" name=\"files[]\" multiple disabled\n",
              "        style=\"border:none\" />\n",
              "     <output id=\"result-a8fb0053-2743-4170-a19a-1934d09656e8\">\n",
              "      Upload widget is only available when the cell has been executed in the\n",
              "      current browser session. Please rerun this cell to enable.\n",
              "      </output>\n",
              "      <script>// Copyright 2017 Google LLC\n",
              "//\n",
              "// Licensed under the Apache License, Version 2.0 (the \"License\");\n",
              "// you may not use this file except in compliance with the License.\n",
              "// You may obtain a copy of the License at\n",
              "//\n",
              "//      http://www.apache.org/licenses/LICENSE-2.0\n",
              "//\n",
              "// Unless required by applicable law or agreed to in writing, software\n",
              "// distributed under the License is distributed on an \"AS IS\" BASIS,\n",
              "// WITHOUT WARRANTIES OR CONDITIONS OF ANY KIND, either express or implied.\n",
              "// See the License for the specific language governing permissions and\n",
              "// limitations under the License.\n",
              "\n",
              "/**\n",
              " * @fileoverview Helpers for google.colab Python module.\n",
              " */\n",
              "(function(scope) {\n",
              "function span(text, styleAttributes = {}) {\n",
              "  const element = document.createElement('span');\n",
              "  element.textContent = text;\n",
              "  for (const key of Object.keys(styleAttributes)) {\n",
              "    element.style[key] = styleAttributes[key];\n",
              "  }\n",
              "  return element;\n",
              "}\n",
              "\n",
              "// Max number of bytes which will be uploaded at a time.\n",
              "const MAX_PAYLOAD_SIZE = 100 * 1024;\n",
              "\n",
              "function _uploadFiles(inputId, outputId) {\n",
              "  const steps = uploadFilesStep(inputId, outputId);\n",
              "  const outputElement = document.getElementById(outputId);\n",
              "  // Cache steps on the outputElement to make it available for the next call\n",
              "  // to uploadFilesContinue from Python.\n",
              "  outputElement.steps = steps;\n",
              "\n",
              "  return _uploadFilesContinue(outputId);\n",
              "}\n",
              "\n",
              "// This is roughly an async generator (not supported in the browser yet),\n",
              "// where there are multiple asynchronous steps and the Python side is going\n",
              "// to poll for completion of each step.\n",
              "// This uses a Promise to block the python side on completion of each step,\n",
              "// then passes the result of the previous step as the input to the next step.\n",
              "function _uploadFilesContinue(outputId) {\n",
              "  const outputElement = document.getElementById(outputId);\n",
              "  const steps = outputElement.steps;\n",
              "\n",
              "  const next = steps.next(outputElement.lastPromiseValue);\n",
              "  return Promise.resolve(next.value.promise).then((value) => {\n",
              "    // Cache the last promise value to make it available to the next\n",
              "    // step of the generator.\n",
              "    outputElement.lastPromiseValue = value;\n",
              "    return next.value.response;\n",
              "  });\n",
              "}\n",
              "\n",
              "/**\n",
              " * Generator function which is called between each async step of the upload\n",
              " * process.\n",
              " * @param {string} inputId Element ID of the input file picker element.\n",
              " * @param {string} outputId Element ID of the output display.\n",
              " * @return {!Iterable<!Object>} Iterable of next steps.\n",
              " */\n",
              "function* uploadFilesStep(inputId, outputId) {\n",
              "  const inputElement = document.getElementById(inputId);\n",
              "  inputElement.disabled = false;\n",
              "\n",
              "  const outputElement = document.getElementById(outputId);\n",
              "  outputElement.innerHTML = '';\n",
              "\n",
              "  const pickedPromise = new Promise((resolve) => {\n",
              "    inputElement.addEventListener('change', (e) => {\n",
              "      resolve(e.target.files);\n",
              "    });\n",
              "  });\n",
              "\n",
              "  const cancel = document.createElement('button');\n",
              "  inputElement.parentElement.appendChild(cancel);\n",
              "  cancel.textContent = 'Cancel upload';\n",
              "  const cancelPromise = new Promise((resolve) => {\n",
              "    cancel.onclick = () => {\n",
              "      resolve(null);\n",
              "    };\n",
              "  });\n",
              "\n",
              "  // Wait for the user to pick the files.\n",
              "  const files = yield {\n",
              "    promise: Promise.race([pickedPromise, cancelPromise]),\n",
              "    response: {\n",
              "      action: 'starting',\n",
              "    }\n",
              "  };\n",
              "\n",
              "  cancel.remove();\n",
              "\n",
              "  // Disable the input element since further picks are not allowed.\n",
              "  inputElement.disabled = true;\n",
              "\n",
              "  if (!files) {\n",
              "    return {\n",
              "      response: {\n",
              "        action: 'complete',\n",
              "      }\n",
              "    };\n",
              "  }\n",
              "\n",
              "  for (const file of files) {\n",
              "    const li = document.createElement('li');\n",
              "    li.append(span(file.name, {fontWeight: 'bold'}));\n",
              "    li.append(span(\n",
              "        `(${file.type || 'n/a'}) - ${file.size} bytes, ` +\n",
              "        `last modified: ${\n",
              "            file.lastModifiedDate ? file.lastModifiedDate.toLocaleDateString() :\n",
              "                                    'n/a'} - `));\n",
              "    const percent = span('0% done');\n",
              "    li.appendChild(percent);\n",
              "\n",
              "    outputElement.appendChild(li);\n",
              "\n",
              "    const fileDataPromise = new Promise((resolve) => {\n",
              "      const reader = new FileReader();\n",
              "      reader.onload = (e) => {\n",
              "        resolve(e.target.result);\n",
              "      };\n",
              "      reader.readAsArrayBuffer(file);\n",
              "    });\n",
              "    // Wait for the data to be ready.\n",
              "    let fileData = yield {\n",
              "      promise: fileDataPromise,\n",
              "      response: {\n",
              "        action: 'continue',\n",
              "      }\n",
              "    };\n",
              "\n",
              "    // Use a chunked sending to avoid message size limits. See b/62115660.\n",
              "    let position = 0;\n",
              "    do {\n",
              "      const length = Math.min(fileData.byteLength - position, MAX_PAYLOAD_SIZE);\n",
              "      const chunk = new Uint8Array(fileData, position, length);\n",
              "      position += length;\n",
              "\n",
              "      const base64 = btoa(String.fromCharCode.apply(null, chunk));\n",
              "      yield {\n",
              "        response: {\n",
              "          action: 'append',\n",
              "          file: file.name,\n",
              "          data: base64,\n",
              "        },\n",
              "      };\n",
              "\n",
              "      let percentDone = fileData.byteLength === 0 ?\n",
              "          100 :\n",
              "          Math.round((position / fileData.byteLength) * 100);\n",
              "      percent.textContent = `${percentDone}% done`;\n",
              "\n",
              "    } while (position < fileData.byteLength);\n",
              "  }\n",
              "\n",
              "  // All done.\n",
              "  yield {\n",
              "    response: {\n",
              "      action: 'complete',\n",
              "    }\n",
              "  };\n",
              "}\n",
              "\n",
              "scope.google = scope.google || {};\n",
              "scope.google.colab = scope.google.colab || {};\n",
              "scope.google.colab._files = {\n",
              "  _uploadFiles,\n",
              "  _uploadFilesContinue,\n",
              "};\n",
              "})(self);\n",
              "</script> "
            ]
          },
          "metadata": {}
        },
        {
          "output_type": "stream",
          "name": "stdout",
          "text": [
            "Saving emailspam.csv to emailspam (1).csv\n",
            "      word_freq_make  word_freq_address  word_freq_all  word_freq_3d  \\\n",
            "0               0.00               0.64           0.64           0.0   \n",
            "1               0.21               0.28           0.50           0.0   \n",
            "2               0.06               0.00           0.71           0.0   \n",
            "3               0.00               0.00           0.00           0.0   \n",
            "4               0.00               0.00           0.00           0.0   \n",
            "...              ...                ...            ...           ...   \n",
            "4596            0.31               0.00           0.62           0.0   \n",
            "4597            0.00               0.00           0.00           0.0   \n",
            "4598            0.30               0.00           0.30           0.0   \n",
            "4599            0.96               0.00           0.00           0.0   \n",
            "4600            0.00               0.00           0.65           0.0   \n",
            "\n",
            "      word_freq_our  word_freq_over  word_freq_remove  word_freq_internet  \\\n",
            "0              0.32            0.00              0.00                0.00   \n",
            "1              0.14            0.28              0.21                0.07   \n",
            "2              1.23            0.19              0.19                0.12   \n",
            "3              0.63            0.00              0.31                0.63   \n",
            "4              0.63            0.00              0.31                0.63   \n",
            "...             ...             ...               ...                 ...   \n",
            "4596           0.00            0.31              0.00                0.00   \n",
            "4597           0.00            0.00              0.00                0.00   \n",
            "4598           0.00            0.00              0.00                0.00   \n",
            "4599           0.32            0.00              0.00                0.00   \n",
            "4600           0.00            0.00              0.00                0.00   \n",
            "\n",
            "      word_freq_order  word_freq_mail  ...  char_freq_,  char_freq_(  \\\n",
            "0                0.00            0.00  ...        0.000        0.000   \n",
            "1                0.00            0.94  ...        0.000        0.132   \n",
            "2                0.64            0.25  ...        0.010        0.143   \n",
            "3                0.31            0.63  ...        0.000        0.137   \n",
            "4                0.31            0.63  ...        0.000        0.135   \n",
            "...               ...             ...  ...          ...          ...   \n",
            "4596             0.00            0.00  ...        0.000        0.232   \n",
            "4597             0.00            0.00  ...        0.000        0.000   \n",
            "4598             0.00            0.00  ...        0.102        0.718   \n",
            "4599             0.00            0.00  ...        0.000        0.057   \n",
            "4600             0.00            0.00  ...        0.000        0.000   \n",
            "\n",
            "      char_freq_[  char_freq_!  char_freq_$  char_freq_#  \\\n",
            "0             0.0        0.778        0.000        0.000   \n",
            "1             0.0        0.372        0.180        0.048   \n",
            "2             0.0        0.276        0.184        0.010   \n",
            "3             0.0        0.137        0.000        0.000   \n",
            "4             0.0        0.135        0.000        0.000   \n",
            "...           ...          ...          ...          ...   \n",
            "4596          0.0        0.000        0.000        0.000   \n",
            "4597          0.0        0.353        0.000        0.000   \n",
            "4598          0.0        0.000        0.000        0.000   \n",
            "4599          0.0        0.000        0.000        0.000   \n",
            "4600          0.0        0.125        0.000        0.000   \n",
            "\n",
            "      capital_run_length_average  capital_run_length_longest  \\\n",
            "0                          3.756                          61   \n",
            "1                          5.114                         101   \n",
            "2                          9.821                         485   \n",
            "3                          3.537                          40   \n",
            "4                          3.537                          40   \n",
            "...                          ...                         ...   \n",
            "4596                       1.142                           3   \n",
            "4597                       1.555                           4   \n",
            "4598                       1.404                           6   \n",
            "4599                       1.147                           5   \n",
            "4600                       1.250                           5   \n",
            "\n",
            "      capital_run_length_total  spam_or_not  \n",
            "0                          278            1  \n",
            "1                         1028            1  \n",
            "2                         2259            1  \n",
            "3                          191            1  \n",
            "4                          191            1  \n",
            "...                        ...          ...  \n",
            "4596                        88            0  \n",
            "4597                        14            0  \n",
            "4598                       118            0  \n",
            "4599                        78            0  \n",
            "4600                        40            0  \n",
            "\n",
            "[4601 rows x 58 columns]\n"
          ]
        }
      ]
    },
    {
      "cell_type": "code",
      "source": [
        "#baca data csv\n",
        "#csv_data = pd.read_csv(\"emailspam.csv\", delimeter =';',header= 0)\n",
        "data = np.array(df) #konversi data csv menjadi array\n",
        "data = data.astype(float) #konversi data menjadi tipe floar\n",
        "n_data = len(data[:,0]) #menghitung banyaknya data\n",
        "\n",
        "print('jumlah data: ', n_data )\n",
        "\n",
        "#membaca jumlah feature \n",
        "n_feature = len(data[0,:]) - 1\n",
        "\n",
        "print('jumlah feature : ', n_feature )\n"
      ],
      "metadata": {
        "colab": {
          "base_uri": "https://localhost:8080/"
        },
        "id": "QdDjfwNMuyoC",
        "outputId": "e9451449-3d48-4ed7-b900-d52ec20daf8d"
      },
      "execution_count": 10,
      "outputs": [
        {
          "output_type": "stream",
          "name": "stdout",
          "text": [
            "jumlah data:  4601\n",
            "jumlah feature :  57\n"
          ]
        }
      ]
    },
    {
      "cell_type": "code",
      "source": [
        "#membagi data : data latih dan data uji\n",
        "rasio_data_latih = 0.7\n",
        "n_data_latih = int(n_data * rasio_data_latih)\n",
        "data_latih = data[:n_data_latih,:]\n",
        "data_uji = data[n_data_latih:,:]\n",
        "n_data_uji = len(data_uji[:,0])\n",
        "\n",
        "print('jumlah data latih', n_data_latih)\n",
        "print('jumlah data uji ', n_data_uji)\n",
        "\n",
        "np.seterr(invalid = 'ignore')\n",
        "\n",
        "#normalisasi data latih dalam rentang[0.1 , 0.9]\n",
        "for i in range(1, n_feature + 1):\n",
        "  data_latih[:,i] = 0.1 + ((data_latih[:,i] - min(data_latih[:,i]))/(max(data_latih[:,i])-min(data_latih[:,i]))) * 0.8\n",
        "\n",
        "print(data_latih)\n",
        "\n",
        "#normalisasi data uji dalam rentang [0.1 , 0.9]\n",
        "\n",
        "for i in range (1, n_feature + 1):\n",
        "  data_uji[:,i] = 0.1 + ((data_uji[:,i] - min(data_uji[:,i]))/(max(data_uji[:,i])-min(data_uji[:,i]))) * 0.8\n",
        "\n",
        "print(data_uji)"
      ],
      "metadata": {
        "colab": {
          "base_uri": "https://localhost:8080/"
        },
        "id": "JG4lJHKWuhLh",
        "outputId": "1820cba1-3889-402e-8411-2588bc20a08f"
      },
      "execution_count": 11,
      "outputs": [
        {
          "output_type": "stream",
          "name": "stdout",
          "text": [
            "jumlah data latih 3220\n",
            "jumlah data uji  1381\n",
            "[[0.         0.13585434 0.20039216 ... 0.10480577 0.1139899  0.9       ]\n",
            " [0.21       0.11568627 0.17843137 ... 0.10800961 0.15186869 0.9       ]\n",
            " [0.06       0.1        0.21137255 ... 0.13876652 0.2140404  0.9       ]\n",
            " ...\n",
            " [0.27       0.11512605 0.1        ... 0.10040048 0.10505051 0.1       ]\n",
            " [0.         0.1        0.1        ... 0.10088106 0.10181818 0.1       ]\n",
            " [0.         0.1        0.23647059 ... 0.10032038 0.10161616 0.1       ]]\n",
            "[[0.         0.1        0.1        ... 0.2236715  0.13162147        nan]\n",
            " [0.         0.1        0.1        ... 0.13091787 0.12608194        nan]\n",
            " [0.         0.1        0.1        ... 0.1115942  0.10253895        nan]\n",
            " ...\n",
            " [0.3        0.1        0.15286344 ... 0.11932367 0.12700519        nan]\n",
            " [0.96       0.1        0.1        ... 0.11545894 0.11777265        nan]\n",
            " [0.         0.1        0.21453744 ... 0.11545894 0.10900173        nan]]\n"
          ]
        }
      ]
    },
    {
      "cell_type": "code",
      "source": [
        "#iniliasisasi parameter jst \n",
        "n_input = n_feature\n",
        "n_hidden = 1\n",
        "n_output = 1\n",
        "n_epoch = 1\n",
        "alfa = 0\n",
        "\n",
        "np.random.seed(seed=716)\n",
        "\n",
        "#iniliasisasi bobot MLP dalam rentang [-1 , 1]\n",
        "w = np.random.rand(n_hidden,n_input) * 2 - 1\n",
        "b1 = np.random.rand(n_hidden) * 2 - 1\n",
        "v = np.random.rand(n_output, n_hidden) # *2 - 1\n",
        "b2 = np.random.rand(n_output) * 2 - 1"
      ],
      "metadata": {
        "id": "FORv5slbuhOR"
      },
      "execution_count": 12,
      "outputs": []
    },
    {
      "cell_type": "code",
      "source": [
        "# learning \n",
        "itr = 0 \n",
        "MSE = np.zeros(n_epoch + 1)\n",
        "while(itr <= n_epoch):\n",
        "  print(\"epoch ke - \" + str(itr))\n",
        "\n",
        "  for idx_data in range(0, n_data_latih):\n",
        "    label = data[idx_data, n_feature]\n",
        "    feature = data_latih[idx_data,0:n_feature]\n",
        "\n",
        "    #hitung nilai pada hidden layer\n",
        "    z = np.zeros(n_hidden)\n",
        "    for i in range(0,n_hidden):\n",
        "      net = np.sum(feature * w[i]) + b1[i]\n",
        "      z[i] = 1/(1 + math.exp(-net))\n",
        "\n",
        "    #hitung nilai pada output layer \n",
        "    y = np.zeros(n_output)\n",
        "    f_output = np.zeros(n_output)\n",
        "    for i in range(0,n_output):\n",
        "      net = np.sum(z * v[i]) + b2[i]\n",
        "      y[i] = 1/(1 + math.exp(-net))\n",
        "\n",
        "    #hitung error pada output layer\n",
        "    error = label - y\n",
        "\n",
        "    #hitung jumlah error\n",
        "    sum_squared_error = sum(error**2)\n",
        "\n",
        "    #hitung faktor koreksi pada output layer\n",
        "    for i in range(0, n_output): \n",
        "      f_output[i]= error * y[i] * (1 - y[i])\n",
        "\n",
        "    #hitung perbaikan bobot antara output dan hidden layer \n",
        "    delta_v = np.zeros(shape=(n_output, n_hidden))\n",
        "    for i in range(0,n_output):\n",
        "      delta_v[i,:] = alfa * f_output[i] * z\n",
        "\n",
        "    #hitung perbaikan bobot BIAS (b2) antara output dan hidden layer\n",
        "    delta_b2 = np.zeros(n_output) \n",
        "    for i in range(0,n_output):\n",
        "      delta_b2[i]= alfa * f_output[i] * 1\n",
        "\n",
        "    #hitung faktor koreksi pada hidden layer\n",
        "    f_hidden = np.zeros(n_hidden)\n",
        "    for i in range (0, n_hidden):\n",
        "      #langkah 1 hitung f_hidden_net\n",
        "      f_hidden_net = sum(f_output * v[:,i]) \n",
        "      #langkah 2 hitung f_hidden\n",
        "      f_hidden[i] = f_hidden_net * z[i] * (1 - z[i])\n",
        "\n",
        "    #hitung perbaikan bobot antara hidden dan input layer \n",
        "    delta_w= np.zeros(shape=(n_hidden, n_input)) \n",
        "    for i in range(n_hidden):\n",
        "      delta_w= alfa * f_hidden[i] * feature\n",
        "\n",
        "    #hitung perbaikan bobot antara hidden dan input layer \n",
        "    delta_b1 = np.zeros(n_hidden) \n",
        "    for i in range(n_hidden):\n",
        "      delta_b1 = alfa * f_hidden[i] * 1\n",
        "\n",
        "      #update semua bobot\n",
        "      w = w + delta_w\n",
        "      b1 = b1 + delta_b1\n",
        "      v = v + delta_v\n",
        "      b2 = b2+ delta_b2\n",
        "    #end for\n",
        "    #hitung Mean Squared Error (MSE)\n",
        "  MSE[itr] = sum_squared_error / n_data_latih\n",
        "  itr += 1\n",
        "#end while"
      ],
      "metadata": {
        "colab": {
          "base_uri": "https://localhost:8080/"
        },
        "id": "Ase3HYFtuhQ5",
        "outputId": "fd81b34b-724f-4d8a-d75d-01dd14cabf21"
      },
      "execution_count": 13,
      "outputs": [
        {
          "output_type": "stream",
          "name": "stdout",
          "text": [
            "epoch ke - 0\n",
            "epoch ke - 1\n"
          ]
        }
      ]
    },
    {
      "cell_type": "code",
      "source": [
        "print(\"-----------RESULT-----------\")\n",
        "print(\"Mean Squared Error: \" +str(MSE [n_epoch]))\n",
        "#print grafik MSE hasil training\n",
        "plt.title(\"Mean Squared Error hasil training\")\n",
        "plt.plot(MSE)\n",
        "plt.autoscale (enable=True, axis='both', tight=None)\n",
        "plt.show(block=False)"
      ],
      "metadata": {
        "colab": {
          "base_uri": "https://localhost:8080/",
          "height": 316
        },
        "id": "klW30L9DuhW5",
        "outputId": "8722ffc8-d0a3-49e6-e0d0-03d10d4fb197"
      },
      "execution_count": 14,
      "outputs": [
        {
          "output_type": "stream",
          "name": "stdout",
          "text": [
            "-----------RESULT-----------\n",
            "Mean Squared Error: 1.0678948228885314e-05\n"
          ]
        },
        {
          "output_type": "display_data",
          "data": {
            "text/plain": [
              "<Figure size 432x288 with 1 Axes>"
            ],
            "image/png": "[encoded data removed]"
          },
          "metadata": {
            "needs_background": "light"
          }
        }
      ]
    }
  ]
}